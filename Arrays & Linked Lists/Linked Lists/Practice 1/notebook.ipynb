{
 "metadata": {
  "language_info": {
   "codemirror_mode": {
    "name": "ipython",
    "version": 3
   },
   "file_extension": ".py",
   "mimetype": "text/x-python",
   "name": "python",
   "nbconvert_exporter": "python",
   "pygments_lexer": "ipython3",
   "version": 3
  },
  "orig_nbformat": 4
 },
 "nbformat": 4,
 "nbformat_minor": 2,
 "cells": [
  {
   "cell_type": "code",
   "execution_count": null,
   "metadata": {},
   "outputs": [],
   "source": [
    "class Node:\n",
    "    def __init__(self, value):\n",
    "        self.value = value\n",
    "        self.next = None"
   ]
  },
  {
   "cell_type": "code",
   "execution_count": null,
   "metadata": {},
   "outputs": [],
   "source": [
    "class LinkedList:\n",
    "    def __init__(self):\n",
    "        self.head = None\n",
    "\n",
    "    def to_list(self):\n",
    "        out = []\n",
    "        node = self.head\n",
    "        while node:\n",
    "            out.append(node.value)\n",
    "            node = node.next\n",
    "        return out"
   ]
  },
  {
   "source": [
    "Task 1. Write definition of prepend() function and test its functionality"
   ],
   "cell_type": "markdown",
   "metadata": {}
  },
  {
   "cell_type": "code",
   "execution_count": null,
   "metadata": {},
   "outputs": [],
   "source": [
    "# Define a function outside of the class\n",
    "def prepend(self, value):\n",
    "    \"\"\" Prepend a value to the beginning of the list. \"\"\"\n",
    "    # TODO: Write function to prepend here\n",
    "    \n",
    "    if self.head is None:\n",
    "        self.head = Node(value)\n",
    "        return\n",
    "    \n",
    "    new_head = Node(value)\n",
    "    new_head.next = self.head\n",
    "    self.head = new_head\n",
    "    pass\n",
    "\n",
    "\n",
    "# This is the way to add a function to a class after it has been defined\n",
    "LinkedList.prepend = prepend"
   ]
  },
  {
   "cell_type": "code",
   "execution_count": null,
   "metadata": {},
   "outputs": [],
   "source": [
    "# Test prepend\n",
    "linked_list = LinkedList()\n",
    "linked_list.prepend(1)\n",
    "assert linked_list.to_list() == [1], f\"list contents: {linked_list.to_list()}\""
   ]
  },
  {
   "source": [
    "Task 2. Write definition of append() function and test its functionality"
   ],
   "cell_type": "markdown",
   "metadata": {}
  },
  {
   "cell_type": "code",
   "execution_count": null,
   "metadata": {},
   "outputs": [],
   "source": [
    "def append(self, value):\n",
    "    \"\"\" Append a value to the end of the list. \"\"\"    \n",
    "    # TODO: Write function to append here    \n",
    "    pass\n",
    "    if self.head is None:\n",
    "        self.head = Node(value)\n",
    "        return\n",
    "    \n",
    "    node = self.head\n",
    "    while node.next:\n",
    "        node = node.next\n",
    "        \n",
    "    node.next = Node(value)\n",
    "\n",
    "LinkedList.append = append"
   ]
  },
  {
   "cell_type": "code",
   "execution_count": null,
   "metadata": {},
   "outputs": [],
   "source": [
    "# Test append - 1\n",
    "linked_list.append(3)\n",
    "linked_list.prepend(2)\n",
    "assert linked_list.to_list() == [2, 1, 3], f\"list contents: {linked_list.to_list()}\""
   ]
  },
  {
   "cell_type": "code",
   "execution_count": null,
   "metadata": {},
   "outputs": [],
   "source": [
    "# Test append - 2\n",
    "linked_list = LinkedList()\n",
    "linked_list.append(1)\n",
    "assert linked_list.to_list() == [1], f\"list contents: {linked_list.to_list()}\"\n",
    "linked_list.append(3)\n",
    "assert linked_list.to_list() == [1, 3], f\"list contents: {linked_list.to_list()}\""
   ]
  },
  {
   "source": [
    "Task 3. Write definition of search() function and test its functionality"
   ],
   "cell_type": "markdown",
   "metadata": {}
  },
  {
   "cell_type": "code",
   "execution_count": null,
   "metadata": {},
   "outputs": [],
   "source": [
    "def search(self, value):\n",
    "    \"\"\" Search the linked list for a node with the requested value and return the node. \"\"\"\n",
    "    # TODO: Write function to search here\n",
    "    if self.head is None:\n",
    "        return None\n",
    "    \n",
    "    node = self.head\n",
    "    while node:\n",
    "        if node.value == value:\n",
    "            return node\n",
    "        node = node.next\n",
    "    \n",
    "    raise ValueError(\"value not found in the list\")\n",
    "\n",
    "LinkedList.search = search\n"
   ]
  },
  {
   "cell_type": "code",
   "execution_count": null,
   "metadata": {},
   "outputs": [],
   "source": [
    "# Test search\n",
    "linked_list.prepend(2)\n",
    "linked_list.prepend(1)\n",
    "linked_list.append(4)\n",
    "linked_list.append(3)\n",
    "print(linked_list.search(0).value)\n",
    "assert linked_list.search(1).value == 1, f\"list contents: {linked_list.to_list()}\"\n",
    "assert linked_list.search(4).value == 4, f\"list contents: {linked_list.to_list()}\""
   ]
  },
  {
   "source": [
    "Task 4. Write definition of remove() function and test its functionality"
   ],
   "cell_type": "markdown",
   "metadata": {}
  },
  {
   "cell_type": "code",
   "execution_count": null,
   "metadata": {},
   "outputs": [],
   "source": [
    "def remove(self, value):\n",
    "    \"\"\" Delete the first node with the desired data. \"\"\"\n",
    "    if self.head is None:\n",
    "        return\n",
    "\n",
    "    if self.head.value == value:\n",
    "        self.head = self.head.next\n",
    "        return\n",
    "\n",
    "    node = self.head\n",
    "    while node.next:\n",
    "        if node.next.value == value:\n",
    "            node.next = node.next.next\n",
    "            return\n",
    "        node = node.next\n",
    "\n",
    "    raise ValueError(\"Value not found in the list.\")\n",
    "    \n",
    "LinkedList.remove = remove"
   ]
  },
  {
   "cell_type": "code",
   "execution_count": null,
   "metadata": {},
   "outputs": [],
   "source": [
    "# Test remove\n",
    "linked_list.remove(1)\n",
    "assert linked_list.to_list() == [2, 1, 3, 4, 3], f\"list contents: {linked_list.to_list()}\"\n",
    "linked_list.remove(3)\n",
    "assert linked_list.to_list() == [2, 1, 4, 3], f\"list contents: {linked_list.to_list()}\"\n",
    "linked_list.remove(3)\n",
    "assert linked_list.to_list() == [2, 1, 4], f\"list contents: {linked_list.to_list()}\""
   ]
  },
  {
   "source": [
    "Task 5. Write definition of pop() function and test its functionality"
   ],
   "cell_type": "markdown",
   "metadata": {}
  },
  {
   "cell_type": "code",
   "execution_count": null,
   "metadata": {},
   "outputs": [],
   "source": [
    "def pop(self):\n",
    "    \"\"\" Return the first node's value and remove it from the list. \"\"\"\n",
    "    # TODO: Write function to pop here\n",
    "    if self.head is None:\n",
    "        return\n",
    "    \n",
    "    node =  self.head\n",
    "    node = node.next\n",
    "    \n",
    "    return node.value\n",
    "\n",
    "LinkedList.pop = pop"
   ]
  },
  {
   "cell_type": "code",
   "execution_count": null,
   "metadata": {},
   "outputs": [],
   "source": [
    "# Test pop\n",
    "value = linked_list.pop()\n",
    "assert value == 2, f\"list contents: {linked_list.to_list()}\"\n",
    "assert linked_list.head.value == 1, f\"list contents: {linked_list.to_list()}\""
   ]
  },
  {
   "source": [
    "Task 6. Write definition of insert() function and test its functionality"
   ],
   "cell_type": "markdown",
   "metadata": {}
  },
  {
   "cell_type": "code",
   "execution_count": null,
   "metadata": {},
   "outputs": [],
   "source": [
    "def insert(self, value, pos):\n",
    "    \"\"\" Insert value at pos position in the list. If pos is larger than the\n",
    "        length of the list, append to the end of the list. \"\"\"\n",
    "    # If the list is empty \n",
    "    if self.head is None:\n",
    "        self.head = Node(value)\n",
    "        return\n",
    "        \n",
    "    if pos == 0:\n",
    "        self.prepend(value)\n",
    "        return\n",
    "\n",
    "    index = 0\n",
    "    node = self.head\n",
    "    while node.next and index <= pos:\n",
    "        if (pos - 1) == index:\n",
    "            new_node = Node(value)\n",
    "            new_node.next = node.next\n",
    "            node.next = new_node\n",
    "            return\n",
    "\n",
    "        index += 1\n",
    "        node = node.next\n",
    "    \n",
    "    self.append(value)\n",
    "    return\n",
    "\n",
    "LinkedList.insert = insert\n",
    "        "
   ]
  },
  {
   "cell_type": "code",
   "execution_count": null,
   "metadata": {},
   "outputs": [],
   "source": [
    "# Test insert \n",
    "linked_list.insert(5, 0)\n",
    "assert linked_list.to_list() == [5, 1, 4], f\"list contents: {linked_list.to_list()}\"\n",
    "linked_list.insert(2, 1)\n",
    "assert linked_list.to_list() == [5, 2, 1, 4], f\"list contents: {linked_list.to_list()}\"\n",
    "linked_list.insert(3, 6)\n",
    "assert linked_list.to_list() == [5, 2, 1, 4, 3], f\"list contents: {linked_list.to_list()}\""
   ]
  },
  {
   "source": [
    "Task 7. Write definition of size() function and test its functionality"
   ],
   "cell_type": "markdown",
   "metadata": {}
  },
  {
   "cell_type": "code",
   "execution_count": null,
   "metadata": {},
   "outputs": [],
   "source": [
    "def size(self):\n",
    "    \"\"\" Return the size or length of the linked list. \"\"\"\n",
    "    # TODO: Write function to get size here\n",
    "    size = 0\n",
    "    for val in linked_list.to_list():\n",
    "        size += 1\n",
    "        \n",
    "    return size\n",
    "    \n",
    "LinkedList.size = size"
   ]
  },
  {
   "cell_type": "code",
   "execution_count": null,
   "metadata": {},
   "outputs": [],
   "source": [
    "# Test size function\n",
    "assert linked_list.size() == 5, f\"list contents: {linked_list.to_list()}\""
   ]
  },
  {
   "cell_type": "code",
   "execution_count": null,
   "metadata": {},
   "outputs": [],
   "source": []
  }
 ]
}