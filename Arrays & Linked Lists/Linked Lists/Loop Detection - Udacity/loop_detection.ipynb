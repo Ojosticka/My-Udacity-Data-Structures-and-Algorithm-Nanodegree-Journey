{
 "metadata": {
  "language_info": {
   "codemirror_mode": {
    "name": "ipython",
    "version": 3
   },
   "file_extension": ".py",
   "mimetype": "text/x-python",
   "name": "python",
   "nbconvert_exporter": "python",
   "pygments_lexer": "ipython3",
   "version": 3
  },
  "orig_nbformat": 4
 },
 "nbformat": 4,
 "nbformat_minor": 2,
 "cells": [
  {
   "cell_type": "code",
   "execution_count": null,
   "metadata": {},
   "outputs": [],
   "source": [
    "class Node:\n",
    "    def __init__(self, value):\n",
    "        self.value = value\n",
    "        self.next = None\n",
    "        \n",
    "class LinkedList:\n",
    "    def __init__(self, init_list=None):\n",
    "        self.head = None\n",
    "        if init_list:\n",
    "            for value in init_list:\n",
    "                self.append(value)\n",
    "        \n",
    "    def append(self, value):\n",
    "        if self.head is None:\n",
    "            self.head = Node(value)\n",
    "            return\n",
    "        \n",
    "        # Move to the tail (the last node)\n",
    "        node = self.head\n",
    "        while node.next:\n",
    "            node = node.next\n",
    "        \n",
    "        node.next = Node(value)\n",
    "        return"
   ]
  },
  {
   "cell_type": "code",
   "execution_count": null,
   "metadata": {},
   "outputs": [],
   "source": [
    "list_with_loop = LinkedList([2, -1, 3, 0, 5])\n",
    "#creating a loop where the last node points back to the second node\n",
    "loop_start = list_with_loop.head.next\n",
    "\n",
    "node = list_with_loop.head\n",
    "while node.next:\n",
    "    node = node.next\n",
    "    \n",
    "node.next = loop_start"
   ]
  },
  {
   "source": [
    "Write the function definition here.\n",
    "\n",
    "Exercise: Given a linked list, implement a function iscircular that returns True if a loop exists in the list and False otherwise."
   ],
   "cell_type": "markdown",
   "metadata": {}
  },
  {
   "cell_type": "code",
   "execution_count": null,
   "metadata": {},
   "outputs": [],
   "source": [
    "def iscircular(linked_list):\n",
    "    \"\"\"\n",
    "    Determine whether the Linked List is circular or not\n",
    "\n",
    "    Args:\n",
    "       linked_list(obj): Linked List to be checked\n",
    "    Returns:\n",
    "       bool: Return True if the linked list is circular, return False otherwise\n",
    "    \"\"\"\n",
    "    \n",
    "    # TODO: Write function to check if linked list is circular\n",
    "    \n",
    "    if linked_list.head is None:\n",
    "        return False\n",
    "    \n",
    "    slow = linked_list.head\n",
    "    fast = linked_list.head\n",
    "    \n",
    "    while fast and fast.next:\n",
    "        # slow pointer moves one node\n",
    "        slow = slow.next\n",
    "        # fast pointer moves two nodes\n",
    "        fast = fast.next.next\n",
    "        \n",
    "        if slow == fast:\n",
    "            return True\n",
    "    \n",
    "    # If we get to a node where fast doesn't have a next node or doesn't exist itself, \n",
    "    # the list has an end and isn't circular\n",
    "    return False\n",
    "    pass"
   ]
  },
  {
   "source": [
    "Let's test your function"
   ],
   "cell_type": "markdown",
   "metadata": {}
  },
  {
   "cell_type": "code",
   "execution_count": null,
   "metadata": {},
   "outputs": [],
   "source": [
    "# Test Cases\n",
    "\n",
    "# Create another circular linked list\n",
    "small_loop = LinkedList([0])\n",
    "small_loop.head.next = small_loop.head\n",
    "\n",
    "print (\"Pass\" if iscircular(list_with_loop) else \"Fail\")                  # Pass\n",
    "print (\"Pass\" if iscircular(LinkedList([-4, 7, 2, 5, -1])) else \"Fail\")   # Fail\n",
    "print (\"Pass\" if iscircular(LinkedList([1])) else \"Fail\")                 # Fail\n",
    "print (\"Pass\" if iscircular(small_loop) else \"Fail\")                      # Pass\n",
    "print (\"Pass\" if iscircular(LinkedList([])) else \"Fail\")                  # Fail"
   ]
  },
  {
   "cell_type": "code",
   "execution_count": null,
   "metadata": {},
   "outputs": [],
   "source": []
  },
  {
   "cell_type": "code",
   "execution_count": null,
   "metadata": {},
   "outputs": [],
   "source": []
  }
 ]
}